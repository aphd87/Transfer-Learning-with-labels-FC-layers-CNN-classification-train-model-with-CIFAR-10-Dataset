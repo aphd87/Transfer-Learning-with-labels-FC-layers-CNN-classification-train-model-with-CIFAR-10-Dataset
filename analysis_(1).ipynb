{
  "cells": [
    {
      "cell_type": "code",
      "execution_count": 2,
      "metadata": {
        "colab": {
          "base_uri": "https://localhost:8080/",
          "height": 1000
        },
        "id": "r0fcmRi4ub9r",
        "outputId": "73f70939-db8d-462e-c0d1-1ae4d74e7f24"
      },
      "outputs": [
        {
          "output_type": "stream",
          "name": "stdout",
          "text": [
            "Looking in indexes: https://pypi.org/simple, https://us-python.pkg.dev/colab-wheels/public/simple/\n",
            "Requirement already satisfied: nbimporter in /usr/local/lib/python3.7/dist-packages (0.3.4)\n",
            "Looking in indexes: https://pypi.org/simple, https://us-python.pkg.dev/colab-wheels/public/simple/\n",
            "Requirement already satisfied: nlp in /usr/local/lib/python3.7/dist-packages (0.4.0)\n",
            "Requirement already satisfied: numpy in /usr/local/lib/python3.7/dist-packages (from nlp) (1.21.6)\n",
            "Requirement already satisfied: filelock in /usr/local/lib/python3.7/dist-packages (from nlp) (3.8.0)\n",
            "Requirement already satisfied: dill in /usr/local/lib/python3.7/dist-packages (from nlp) (0.3.6)\n",
            "Requirement already satisfied: xxhash in /usr/local/lib/python3.7/dist-packages (from nlp) (3.1.0)\n",
            "Requirement already satisfied: requests>=2.19.0 in /usr/local/lib/python3.7/dist-packages (from nlp) (2.23.0)\n",
            "Requirement already satisfied: tqdm>=4.27 in /usr/local/lib/python3.7/dist-packages (from nlp) (4.64.1)\n",
            "Requirement already satisfied: pandas in /usr/local/lib/python3.7/dist-packages (from nlp) (1.3.5)\n",
            "Requirement already satisfied: pyarrow>=0.16.0 in /usr/local/lib/python3.7/dist-packages (from nlp) (6.0.1)\n",
            "Requirement already satisfied: certifi>=2017.4.17 in /usr/local/lib/python3.7/dist-packages (from requests>=2.19.0->nlp) (2022.9.24)\n",
            "Requirement already satisfied: urllib3!=1.25.0,!=1.25.1,<1.26,>=1.21.1 in /usr/local/lib/python3.7/dist-packages (from requests>=2.19.0->nlp) (1.24.3)\n",
            "Requirement already satisfied: chardet<4,>=3.0.2 in /usr/local/lib/python3.7/dist-packages (from requests>=2.19.0->nlp) (3.0.4)\n",
            "Requirement already satisfied: idna<3,>=2.5 in /usr/local/lib/python3.7/dist-packages (from requests>=2.19.0->nlp) (2.10)\n",
            "Requirement already satisfied: pytz>=2017.3 in /usr/local/lib/python3.7/dist-packages (from pandas->nlp) (2022.6)\n",
            "Requirement already satisfied: python-dateutil>=2.7.3 in /usr/local/lib/python3.7/dist-packages (from pandas->nlp) (2.8.2)\n",
            "Requirement already satisfied: six>=1.5 in /usr/local/lib/python3.7/dist-packages (from python-dateutil>=2.7.3->pandas->nlp) (1.15.0)\n",
            "Looking in indexes: https://pypi.org/simple, https://us-python.pkg.dev/colab-wheels/public/simple/\n",
            "Requirement already satisfied: text2emotion in /usr/local/lib/python3.7/dist-packages (0.0.5)\n",
            "Requirement already satisfied: emoji>=0.6.0 in /usr/local/lib/python3.7/dist-packages (from text2emotion) (1.7.0)\n",
            "Requirement already satisfied: nltk in /usr/local/lib/python3.7/dist-packages (from text2emotion) (3.7)\n",
            "Requirement already satisfied: click in /usr/local/lib/python3.7/dist-packages (from nltk->text2emotion) (7.1.2)\n",
            "Requirement already satisfied: joblib in /usr/local/lib/python3.7/dist-packages (from nltk->text2emotion) (1.2.0)\n",
            "Requirement already satisfied: regex>=2021.8.3 in /usr/local/lib/python3.7/dist-packages (from nltk->text2emotion) (2022.6.2)\n",
            "Requirement already satisfied: tqdm in /usr/local/lib/python3.7/dist-packages (from nltk->text2emotion) (4.64.1)\n"
          ]
        },
        {
          "output_type": "stream",
          "name": "stderr",
          "text": [
            "[nltk_data] Downloading package stopwords to /root/nltk_data...\n",
            "[nltk_data]   Package stopwords is already up-to-date!\n",
            "[nltk_data] Downloading package punkt to /root/nltk_data...\n",
            "[nltk_data]   Package punkt is already up-to-date!\n",
            "[nltk_data] Downloading package wordnet to /root/nltk_data...\n",
            "[nltk_data]   Package wordnet is already up-to-date!\n"
          ]
        },
        {
          "output_type": "stream",
          "name": "stdout",
          "text": [
            "Found existing installation: emoji 1.7.0\n",
            "Uninstalling emoji-1.7.0:\n",
            "  Would remove:\n",
            "    /usr/local/lib/python3.7/dist-packages/emoji-1.7.0.dist-info/*\n",
            "    /usr/local/lib/python3.7/dist-packages/emoji/*\n",
            "Proceed (y/n)? y\n",
            "  Successfully uninstalled emoji-1.7.0\n",
            "Looking in indexes: https://pypi.org/simple, https://us-python.pkg.dev/colab-wheels/public/simple/\n",
            "Collecting emoji==1.7\n",
            "  Using cached emoji-1.7.0-py3-none-any.whl\n",
            "Installing collected packages: emoji\n",
            "Successfully installed emoji-1.7.0\n"
          ]
        },
        {
          "output_type": "display_data",
          "data": {
            "application/vnd.colab-display-data+json": {
              "pip_warning": {
                "packages": [
                  "emoji"
                ]
              }
            }
          },
          "metadata": {}
        },
        {
          "output_type": "stream",
          "name": "stdout",
          "text": [
            "Looking in indexes: https://pypi.org/simple, https://us-python.pkg.dev/colab-wheels/public/simple/\n",
            "Requirement already satisfied: text2emotion in /usr/local/lib/python3.7/dist-packages (0.0.5)\n",
            "Requirement already satisfied: nltk in /usr/local/lib/python3.7/dist-packages (from text2emotion) (3.7)\n",
            "Requirement already satisfied: emoji>=0.6.0 in /usr/local/lib/python3.7/dist-packages (from text2emotion) (1.7.0)\n",
            "Requirement already satisfied: tqdm in /usr/local/lib/python3.7/dist-packages (from nltk->text2emotion) (4.64.1)\n",
            "Requirement already satisfied: click in /usr/local/lib/python3.7/dist-packages (from nltk->text2emotion) (7.1.2)\n",
            "Requirement already satisfied: joblib in /usr/local/lib/python3.7/dist-packages (from nltk->text2emotion) (1.2.0)\n",
            "Requirement already satisfied: regex>=2021.8.3 in /usr/local/lib/python3.7/dist-packages (from nltk->text2emotion) (2022.6.2)\n"
          ]
        }
      ],
      "source": [
        "import numpy as np\n",
        "import pandas as pd\n",
        "import matplotlib.pyplot as plt\n",
        "%matplotlib inline\n",
        "import seaborn as sns\n",
        "pd.set_option('display.max_colwidth', None)\n",
        "!pip install nbimporter\n",
        "!pip install nlp\n",
        "!pip install text2emotion\n",
        "import text2emotion as te\n",
        "!pip uninstall emoji\n",
        "!pip install emoji==1.7\n",
        "!pip install text2emotion\n",
        "            \n"
      ]
    },
    {
      "cell_type": "code",
      "execution_count": 3,
      "metadata": {
        "id": "EcfZTWsMub9u"
      },
      "outputs": [],
      "source": [
        "df = pd.read_json('scripts_grouped.json')"
      ]
    },
    {
      "cell_type": "code",
      "execution_count": 4,
      "metadata": {
        "id": "UvsMv0ITub9u"
      },
      "outputs": [],
      "source": [
        "#df[['dialogue', 'script_length']].head()"
      ]
    },
    {
      "cell_type": "code",
      "execution_count": 5,
      "metadata": {
        "id": "AEtknwmdub9u"
      },
      "outputs": [],
      "source": [
        "import nltk\n",
        "from nltk.tokenize import sent_tokenize, word_tokenize\n",
        "from nltk.corpus import stopwords\n",
        "sw = stopwords.words('english')\n",
        "\n",
        "def clean(text):\n",
        "    lower_case = text.lower()\n",
        "    tokenized = word_tokenize(lower_case)\n",
        "    last_item = tokenized[:-1]\n",
        "    script_length = len(last_item)\n",
        "    \n",
        "    first = ['i', 'we', 'me', 'us', 'our', 'my']\n",
        "    second = ['you', 'your']\n",
        "    third = ['he', 'him', 'his', 'she', 'her']\n",
        "    first_person = len([word for word in last_item if word in first])\n",
        "    second_person = len([word for word in last_item if word in second])\n",
        "    third_person = len([word for word in last_item if word in third])\n",
        "    first_person_percent = first_person/(first_person+second_person+third_person) * 100\n",
        "    second_person_percent = second_person/(first_person+second_person+third_person) * 100\n",
        "    third_person_percent = third_person/(first_person+second_person+third_person) * 100\n",
        "       \n",
        "    no_stopwords = [word for word in last_item if word not in sw]\n",
        "    stopwords = [word for word in last_item if word in sw] \n",
        "    alpha_only = [word for word in no_stopwords if word.isalpha()]\n",
        "    alnums = [word for word in no_stopwords if word.isalnum()]\n",
        "    num_only = [word for word in alnums if word not in alpha_only]\n",
        "    \n",
        "    \n",
        "    stop_words_percent = len(stopwords)/len(last_item) * 100\n",
        "    no_stopwords_percent = len(no_stopwords)/len(last_item) * 100\n",
        "    number_percent = len(num_only)/len(last_item) * 100\n",
        "    \n",
        "    str1 = \" \"\n",
        "    cleaned = str1.join(last_item)\n",
        "    \n",
        "    lex_diversity = len(set(last_item))/len(last_item)\n",
        "    \n",
        "    return script_length, first_person_percent, second_person_percent, third_person_percent,\\\n",
        "stop_words_percent, no_stopwords_percent, cleaned, lex_diversity\n",
        "\n",
        "df['script_length'], df['first_person_percent'], df['second_person_percent'], df['third_person_percent'],\\\n",
        "df['stop_words_percent'], df['no_stopwords_percent'], df['dialogue_clean'], df['lex_diversity'] = zip(*df['dialogue'].apply(clean))"
      ]
    },
    {
      "cell_type": "code",
      "execution_count": 6,
      "metadata": {
        "id": "9e_DBPFAub9v"
      },
      "outputs": [],
      "source": [
        "from textblob import TextBlob\n",
        "# 2) subjectivity: objective vs. subjective (+0.0 => +1.0)\n",
        "df['subjectivity'] = df['dialogue_clean'].apply(lambda x: TextBlob(x).subjectivity)\n",
        "df['polarity'] = df['dialogue_clean'].apply(lambda x: TextBlob(x).sentiment.polarity)"
      ]
    },
    {
      "cell_type": "code",
      "execution_count": 7,
      "metadata": {
        "id": "-0cSZmW7ub9w",
        "colab": {
          "base_uri": "https://localhost:8080/",
          "height": 270
        },
        "outputId": "f2dcabe4-efab-4b12-df7b-06c1d1827182"
      },
      "outputs": [
        {
          "output_type": "execute_result",
          "data": {
            "text/plain": [
              "       script_length  first_person_percent  second_person_percent  \\\n",
              "0               4094             40.572792              43.675418   \n",
              "10170           3847             49.397590              31.566265   \n",
              "10455           4946             47.833622              39.688042   \n",
              "10852           3922             54.741379              32.543103   \n",
              "1087            4129             54.126214              35.194175   \n",
              "\n",
              "       third_person_percent  stop_words_percent  no_stopwords_percent  \\\n",
              "0                 15.751790           38.470933             61.529067   \n",
              "10170             19.036145           35.846114             64.153886   \n",
              "10455             12.478336           38.536191             61.463809   \n",
              "10852             12.715517           37.021928             62.978072   \n",
              "1087              10.679612           39.065149             60.934851   \n",
              "\n",
              "       lex_diversity  subjectivity  polarity  \n",
              "0           0.185882      0.519149  0.122309  \n",
              "10170       0.195737      0.513319  0.210641  \n",
              "10455       0.146583      0.499423  0.130353  \n",
              "10852       0.173126      0.431258  0.030128  \n",
              "1087        0.195447      0.511490  0.088897  "
            ],
            "text/html": [
              "\n",
              "  <div id=\"df-5486b1d9-3c79-4af1-a276-d1773e8891cc\">\n",
              "    <div class=\"colab-df-container\">\n",
              "      <div>\n",
              "<style scoped>\n",
              "    .dataframe tbody tr th:only-of-type {\n",
              "        vertical-align: middle;\n",
              "    }\n",
              "\n",
              "    .dataframe tbody tr th {\n",
              "        vertical-align: top;\n",
              "    }\n",
              "\n",
              "    .dataframe thead th {\n",
              "        text-align: right;\n",
              "    }\n",
              "</style>\n",
              "<table border=\"1\" class=\"dataframe\">\n",
              "  <thead>\n",
              "    <tr style=\"text-align: right;\">\n",
              "      <th></th>\n",
              "      <th>script_length</th>\n",
              "      <th>first_person_percent</th>\n",
              "      <th>second_person_percent</th>\n",
              "      <th>third_person_percent</th>\n",
              "      <th>stop_words_percent</th>\n",
              "      <th>no_stopwords_percent</th>\n",
              "      <th>lex_diversity</th>\n",
              "      <th>subjectivity</th>\n",
              "      <th>polarity</th>\n",
              "    </tr>\n",
              "  </thead>\n",
              "  <tbody>\n",
              "    <tr>\n",
              "      <th>0</th>\n",
              "      <td>4094</td>\n",
              "      <td>40.572792</td>\n",
              "      <td>43.675418</td>\n",
              "      <td>15.751790</td>\n",
              "      <td>38.470933</td>\n",
              "      <td>61.529067</td>\n",
              "      <td>0.185882</td>\n",
              "      <td>0.519149</td>\n",
              "      <td>0.122309</td>\n",
              "    </tr>\n",
              "    <tr>\n",
              "      <th>10170</th>\n",
              "      <td>3847</td>\n",
              "      <td>49.397590</td>\n",
              "      <td>31.566265</td>\n",
              "      <td>19.036145</td>\n",
              "      <td>35.846114</td>\n",
              "      <td>64.153886</td>\n",
              "      <td>0.195737</td>\n",
              "      <td>0.513319</td>\n",
              "      <td>0.210641</td>\n",
              "    </tr>\n",
              "    <tr>\n",
              "      <th>10455</th>\n",
              "      <td>4946</td>\n",
              "      <td>47.833622</td>\n",
              "      <td>39.688042</td>\n",
              "      <td>12.478336</td>\n",
              "      <td>38.536191</td>\n",
              "      <td>61.463809</td>\n",
              "      <td>0.146583</td>\n",
              "      <td>0.499423</td>\n",
              "      <td>0.130353</td>\n",
              "    </tr>\n",
              "    <tr>\n",
              "      <th>10852</th>\n",
              "      <td>3922</td>\n",
              "      <td>54.741379</td>\n",
              "      <td>32.543103</td>\n",
              "      <td>12.715517</td>\n",
              "      <td>37.021928</td>\n",
              "      <td>62.978072</td>\n",
              "      <td>0.173126</td>\n",
              "      <td>0.431258</td>\n",
              "      <td>0.030128</td>\n",
              "    </tr>\n",
              "    <tr>\n",
              "      <th>1087</th>\n",
              "      <td>4129</td>\n",
              "      <td>54.126214</td>\n",
              "      <td>35.194175</td>\n",
              "      <td>10.679612</td>\n",
              "      <td>39.065149</td>\n",
              "      <td>60.934851</td>\n",
              "      <td>0.195447</td>\n",
              "      <td>0.511490</td>\n",
              "      <td>0.088897</td>\n",
              "    </tr>\n",
              "  </tbody>\n",
              "</table>\n",
              "</div>\n",
              "      <button class=\"colab-df-convert\" onclick=\"convertToInteractive('df-5486b1d9-3c79-4af1-a276-d1773e8891cc')\"\n",
              "              title=\"Convert this dataframe to an interactive table.\"\n",
              "              style=\"display:none;\">\n",
              "        \n",
              "  <svg xmlns=\"http://www.w3.org/2000/svg\" height=\"24px\"viewBox=\"0 0 24 24\"\n",
              "       width=\"24px\">\n",
              "    <path d=\"M0 0h24v24H0V0z\" fill=\"none\"/>\n",
              "    <path d=\"M18.56 5.44l.94 2.06.94-2.06 2.06-.94-2.06-.94-.94-2.06-.94 2.06-2.06.94zm-11 1L8.5 8.5l.94-2.06 2.06-.94-2.06-.94L8.5 2.5l-.94 2.06-2.06.94zm10 10l.94 2.06.94-2.06 2.06-.94-2.06-.94-.94-2.06-.94 2.06-2.06.94z\"/><path d=\"M17.41 7.96l-1.37-1.37c-.4-.4-.92-.59-1.43-.59-.52 0-1.04.2-1.43.59L10.3 9.45l-7.72 7.72c-.78.78-.78 2.05 0 2.83L4 21.41c.39.39.9.59 1.41.59.51 0 1.02-.2 1.41-.59l7.78-7.78 2.81-2.81c.8-.78.8-2.07 0-2.86zM5.41 20L4 18.59l7.72-7.72 1.47 1.35L5.41 20z\"/>\n",
              "  </svg>\n",
              "      </button>\n",
              "      \n",
              "  <style>\n",
              "    .colab-df-container {\n",
              "      display:flex;\n",
              "      flex-wrap:wrap;\n",
              "      gap: 12px;\n",
              "    }\n",
              "\n",
              "    .colab-df-convert {\n",
              "      background-color: #E8F0FE;\n",
              "      border: none;\n",
              "      border-radius: 50%;\n",
              "      cursor: pointer;\n",
              "      display: none;\n",
              "      fill: #1967D2;\n",
              "      height: 32px;\n",
              "      padding: 0 0 0 0;\n",
              "      width: 32px;\n",
              "    }\n",
              "\n",
              "    .colab-df-convert:hover {\n",
              "      background-color: #E2EBFA;\n",
              "      box-shadow: 0px 1px 2px rgba(60, 64, 67, 0.3), 0px 1px 3px 1px rgba(60, 64, 67, 0.15);\n",
              "      fill: #174EA6;\n",
              "    }\n",
              "\n",
              "    [theme=dark] .colab-df-convert {\n",
              "      background-color: #3B4455;\n",
              "      fill: #D2E3FC;\n",
              "    }\n",
              "\n",
              "    [theme=dark] .colab-df-convert:hover {\n",
              "      background-color: #434B5C;\n",
              "      box-shadow: 0px 1px 3px 1px rgba(0, 0, 0, 0.15);\n",
              "      filter: drop-shadow(0px 1px 2px rgba(0, 0, 0, 0.3));\n",
              "      fill: #FFFFFF;\n",
              "    }\n",
              "  </style>\n",
              "\n",
              "      <script>\n",
              "        const buttonEl =\n",
              "          document.querySelector('#df-5486b1d9-3c79-4af1-a276-d1773e8891cc button.colab-df-convert');\n",
              "        buttonEl.style.display =\n",
              "          google.colab.kernel.accessAllowed ? 'block' : 'none';\n",
              "\n",
              "        async function convertToInteractive(key) {\n",
              "          const element = document.querySelector('#df-5486b1d9-3c79-4af1-a276-d1773e8891cc');\n",
              "          const dataTable =\n",
              "            await google.colab.kernel.invokeFunction('convertToInteractive',\n",
              "                                                     [key], {});\n",
              "          if (!dataTable) return;\n",
              "\n",
              "          const docLinkHtml = 'Like what you see? Visit the ' +\n",
              "            '<a target=\"_blank\" href=https://colab.research.google.com/notebooks/data_table.ipynb>data table notebook</a>'\n",
              "            + ' to learn more about interactive tables.';\n",
              "          element.innerHTML = '';\n",
              "          dataTable['output_type'] = 'display_data';\n",
              "          await google.colab.output.renderOutput(dataTable, element);\n",
              "          const docLink = document.createElement('div');\n",
              "          docLink.innerHTML = docLinkHtml;\n",
              "          element.appendChild(docLink);\n",
              "        }\n",
              "      </script>\n",
              "    </div>\n",
              "  </div>\n",
              "  "
            ]
          },
          "metadata": {},
          "execution_count": 7
        }
      ],
      "source": [
        "df_truncated = df[['script_length', 'first_person_percent', 'second_person_percent', \\\n",
        "                   'third_person_percent', 'stop_words_percent', 'no_stopwords_percent', 'lex_diversity', \\\n",
        "                  'subjectivity', 'polarity']]\n",
        "df_truncated.head()"
      ]
    },
    {
      "cell_type": "code",
      "execution_count": null,
      "metadata": {
        "id": "TsEg7ub0ub9w",
        "colab": {
          "base_uri": "https://localhost:8080/"
        },
        "outputId": "934b7cfe-751d-433f-9185-34cfcd75d80b"
      },
      "outputs": [
        {
          "output_type": "stream",
          "name": "stdout",
          "text": [
            "Looking in indexes: https://pypi.org/simple, https://us-python.pkg.dev/colab-wheels/public/simple/\n",
            "Requirement already satisfied: emot in /usr/local/lib/python3.7/dist-packages (3.1)\n"
          ]
        },
        {
          "output_type": "stream",
          "name": "stderr",
          "text": [
            "[nltk_data] Downloading package omw-1.4 to /root/nltk_data...\n"
          ]
        }
      ],
      "source": [
        "import text2emotion as te\n",
        "import re \n",
        "!pip install emot\n",
        "from emoji import EMOJI_DATA\n",
        "import nltk\n",
        "nltk.download('omw-1.4')\n",
        "\n",
        "def emotion_score(text):\n",
        "    emotion_score = te.get_emotion(text)\n",
        "    emotion_happy = emotion_score.get('Happy')\n",
        "    emotion_angry = emotion_score.get('Angry')\n",
        "    emotion_surprise = emotion_score.get('Surprise')\n",
        "    emotion_sad = emotion_score.get('Sad')\n",
        "    emotion_fear = emotion_score.get('Fear')\n",
        "    \n",
        "    return emotion_happy, emotion_angry, emotion_surprise, emotion_sad, emotion_fear\n",
        "\n",
        "df['emotion_happy'], df['emotion_angry'], df['emotion_surprise'], df['emotion_sad'], \\\n",
        "df['emotion_fear'] = zip(*df['dialogue'].apply(emotion_score))"
      ]
    },
    {
      "cell_type": "code",
      "execution_count": null,
      "metadata": {
        "id": "RJ0TOkHPub9w"
      },
      "outputs": [],
      "source": [
        "df[['emotion_happy', 'emotion_angry', 'emotion_surprise', 'emotion_sad', 'emotion_fear']]"
      ]
    },
    {
      "cell_type": "markdown",
      "source": [
        "# New Section"
      ],
      "metadata": {
        "id": "J8j_op1p3oNL"
      }
    }
  ],
  "metadata": {
    "kernelspec": {
      "display_name": "Python 3 (ipykernel)",
      "language": "python",
      "name": "python3"
    },
    "language_info": {
      "codemirror_mode": {
        "name": "ipython",
        "version": 3
      },
      "file_extension": ".py",
      "mimetype": "text/x-python",
      "name": "python",
      "nbconvert_exporter": "python",
      "pygments_lexer": "ipython3",
      "version": "3.9.12"
    },
    "colab": {
      "provenance": []
    }
  },
  "nbformat": 4,
  "nbformat_minor": 0
}